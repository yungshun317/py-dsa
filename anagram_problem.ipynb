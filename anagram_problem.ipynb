{
 "cells": [
  {
   "cell_type": "markdown",
   "id": "ec506015",
   "metadata": {},
   "source": [
    "An **anagram** is a word or phrase formed by rearranging the letters of a different word or phrase, typically using all the original letters exactly once.\n",
    "\n",
    "Construct an algorithm to check whether 2 words (or phrases) are anagram or not."
   ]
  },
  {
   "cell_type": "code",
   "execution_count": null,
   "id": "64737f2b",
   "metadata": {},
   "outputs": [],
   "source": [
    "# [1]\n",
    "\n"
   ]
  }
 ],
 "metadata": {
  "kernelspec": {
   "display_name": "Python 3 (ipykernel)",
   "language": "python",
   "name": "python3"
  },
  "language_info": {
   "codemirror_mode": {
    "name": "ipython",
    "version": 3
   },
   "file_extension": ".py",
   "mimetype": "text/x-python",
   "name": "python",
   "nbconvert_exporter": "python",
   "pygments_lexer": "ipython3",
   "version": "3.8.8"
  }
 },
 "nbformat": 4,
 "nbformat_minor": 5
}
