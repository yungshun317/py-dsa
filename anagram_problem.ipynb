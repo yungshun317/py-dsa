{
 "cells": [
  {
   "cell_type": "markdown",
   "id": "5b22a5bb",
   "metadata": {},
   "source": [
    "An **anagram** is a word or phrase formed by rearranging the letters of a different word or phrase, typically using all the original letters exactly once.\n",
    "\n",
    "Construct an algorithm to check whether 2 words (or phrases) are anagrams or not."
   ]
  },
  {
   "cell_type": "code",
   "execution_count": 1,
   "id": "b490d8d4",
   "metadata": {},
   "outputs": [],
   "source": [
    "# [1] Sort\n",
    "def is_anagram(str1, str2):\n",
    "    \n",
    "    # If the length of the strings differ - they are not anagrams\n",
    "    if len(str1) != len(str2):\n",
    "        return False\n",
    "    \n",
    "    # We have to sort the letters of the strings and then we have to compare\n",
    "    # the letters with the same indexes\n",
    "    # This is the bottleneck because it has O(NlogN)\n",
    "    str1 = sorted(str1)\n",
    "    str2 = sorted(str2)\n",
    "    \n",
    "    # After that we have to check the letters with the same indexes\n",
    "    # O(N) running time\n",
    "    for i in range(len(str1)):\n",
    "        if str1[i] != str2[i]:\n",
    "            return False\n",
    "    \n",
    "    # Overall running time is O(NlogN)+O(N)=O(NlogN)\n",
    "    return True "
   ]
  },
  {
   "cell_type": "code",
   "execution_count": 2,
   "id": "feb0b63c",
   "metadata": {
    "scrolled": true
   },
   "outputs": [
    {
     "name": "stdout",
     "output_type": "stream",
     "text": [
      "True\n"
     ]
    }
   ],
   "source": [
    "s1 = ['f', 'l', 'u', 's', 't', 'e', 'r']\n",
    "s2 = ['r', 'e', 's', 't', 'f', 'u', 'l']\n",
    "\n",
    "print(is_anagram(s1, s2))"
   ]
  },
  {
   "cell_type": "code",
   "execution_count": 3,
   "id": "839ad615",
   "metadata": {},
   "outputs": [],
   "source": [
    "# [2] Dictionary\n",
    "def is_anagram(str1, str2):\n",
    "    \n",
    "    if len(str1) != len(str2):\n",
    "        return False\n",
    "    \n",
    "    # Get count of each character\n",
    "    freq = {}\n",
    "    \n",
    "    # Insert counts into the dictionary\n",
    "    for i in str1:\n",
    "        if i in freq:\n",
    "            freq[i] = freq[i] + 1\n",
    "        else:\n",
    "            freq[i] = 1\n",
    "            \n",
    "    # print(freq)\n",
    "    # {'f': 1, 'l': 1, 'u': 1, 's': 1, 't': 1, 'e': 1, 'r': 1}\n",
    "    \n",
    "    # Pop counts from the dictionary\n",
    "    for j in str2:\n",
    "        if j in freq:\n",
    "            freq[j] = freq[j] - 1\n",
    "        else: \n",
    "            return False\n",
    "        \n",
    "    # print(freq)\n",
    "    # {'f': 0, 'l': 0, 'u': 0, 's': 0, 't': 0, 'e': 0, 'r': 0}\n",
    "    \n",
    "    # Check if all values of a dictionary is `0` \n",
    "    return all(value == 0 for value in freq.values())"
   ]
  },
  {
   "cell_type": "code",
   "execution_count": 4,
   "id": "8db144b9",
   "metadata": {},
   "outputs": [
    {
     "name": "stdout",
     "output_type": "stream",
     "text": [
      "True\n"
     ]
    }
   ],
   "source": [
    "s1 = ['f', 'l', 'u', 's', 't', 'e', 'r']\n",
    "s2 = ['r', 'e', 's', 't', 'f', 'u', 'l']\n",
    "\n",
    "print(is_anagram(s1, s2))"
   ]
  },
  {
   "cell_type": "code",
   "execution_count": null,
   "id": "9a15e8f4",
   "metadata": {},
   "outputs": [],
   "source": []
  }
 ],
 "metadata": {
  "kernelspec": {
   "display_name": "Python 3 (ipykernel)",
   "language": "python",
   "name": "python3"
  },
  "language_info": {
   "codemirror_mode": {
    "name": "ipython",
    "version": 3
   },
   "file_extension": ".py",
   "mimetype": "text/x-python",
   "name": "python",
   "nbconvert_exporter": "python",
   "pygments_lexer": "ipython3",
   "version": "3.8.8"
  }
 },
 "nbformat": 4,
 "nbformat_minor": 5
}
