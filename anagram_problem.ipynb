{
 "cells": [
  {
   "cell_type": "markdown",
   "id": "5b22a5bb",
   "metadata": {},
   "source": [
    "An **anagram** is a word or phrase formed by rearranging the letters of a different word or phrase, typically using all the original letters exactly once.\n",
    "\n",
    "Construct an algorithm to check whether 2 words (or phrases) are anagrams or not."
   ]
  },
  {
   "cell_type": "code",
   "execution_count": 1,
   "id": "b490d8d4",
   "metadata": {},
   "outputs": [],
   "source": [
    "# [1]\n",
    "def is_anagram(str1, str2):\n",
    "    \n",
    "    # If the length of the strings differ - they are not anagrams\n",
    "    if len(str1) != len(str2):\n",
    "        return False\n",
    "    \n",
    "    # We have to sort the letters of the strings and then we haev to compare\n",
    "    # the letters with the same indexes\n",
    "    # This is the bottlenect because it has O(NlogN)\n",
    "    str1 = sorted(str1)\n",
    "    str2 = sorted(str2)\n",
    "    \n",
    "    # After that we have to check the letters with the same indexes\n",
    "    # O(N) running time\n",
    "    for i in range(len(str1)):\n",
    "        if str1[i] != str2[i]:\n",
    "            return False\n",
    "    \n",
    "    # Overall running time is O(NlogN)+O(N)=O(NlogN)\n",
    "    return True "
   ]
  },
  {
   "cell_type": "code",
   "execution_count": 2,
   "id": "feb0b63c",
   "metadata": {
    "scrolled": true
   },
   "outputs": [
    {
     "name": "stdout",
     "output_type": "stream",
     "text": [
      "True\n"
     ]
    }
   ],
   "source": [
    "s1 = ['f', 'l', 'u', 's', 't', 'e', 'r']\n",
    "s2 = ['r', 'e', 's', 't', 'f', 'u', 'l']\n",
    "\n",
    "print(is_anagram(s1, s2))"
   ]
  }
 ],
 "metadata": {
  "kernelspec": {
   "display_name": "Python 3 (ipykernel)",
   "language": "python",
   "name": "python3"
  },
  "language_info": {
   "codemirror_mode": {
    "name": "ipython",
    "version": 3
   },
   "file_extension": ".py",
   "mimetype": "text/x-python",
   "name": "python",
   "nbconvert_exporter": "python",
   "pygments_lexer": "ipython3",
   "version": "3.8.8"
  }
 },
 "nbformat": 4,
 "nbformat_minor": 5
}
