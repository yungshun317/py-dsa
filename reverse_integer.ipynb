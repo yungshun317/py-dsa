{
 "cells": [
  {
   "cell_type": "markdown",
   "id": "ccd0efc5",
   "metadata": {},
   "source": [
    "# Integer Reversion\n",
    "\n",
    "Design an efficient algorithm to reverse a given integer."
   ]
  },
  {
   "cell_type": "code",
   "execution_count": 18,
   "id": "e64a27e5",
   "metadata": {},
   "outputs": [],
   "source": [
    "# [1] Iteration - modulo operator %\n",
    "def reverse_integer(n):    \n",
    "    \n",
    "    reversed_integer = 0\n",
    "    \n",
    "    while n > 0:\n",
    "        remainder = n % 10\n",
    "        reversed_integer = reversed_integer * 10 + remainder\n",
    "        n = n // 10\n",
    "    \n",
    "    return reversed_integer"
   ]
  },
  {
   "cell_type": "code",
   "execution_count": 22,
   "id": "a8838047",
   "metadata": {},
   "outputs": [
    {
     "data": {
      "text/plain": [
       "987654321"
      ]
     },
     "execution_count": 22,
     "metadata": {},
     "output_type": "execute_result"
    }
   ],
   "source": [
    "reverse_integer(1234567890)"
   ]
  }
 ],
 "metadata": {
  "kernelspec": {
   "display_name": "Python 3 (ipykernel)",
   "language": "python",
   "name": "python3"
  },
  "language_info": {
   "codemirror_mode": {
    "name": "ipython",
    "version": 3
   },
   "file_extension": ".py",
   "mimetype": "text/x-python",
   "name": "python",
   "nbconvert_exporter": "python",
   "pygments_lexer": "ipython3",
   "version": "3.8.8"
  }
 },
 "nbformat": 4,
 "nbformat_minor": 5
}
