{
 "cells": [
  {
   "cell_type": "markdown",
   "id": "414adeee",
   "metadata": {},
   "source": [
    "# Integer Reversion\n",
    "\n",
    "Design an efficient algorithm to reverse a given integer."
   ]
  },
  {
   "cell_type": "code",
   "execution_count": 15,
   "id": "0211d628",
   "metadata": {},
   "outputs": [],
   "source": [
    "reversed_integer = 0\n",
    "\n",
    "def reverse(integer, reversed_integer):    \n",
    "    while integer != 0:\n",
    "        reversed_integer = reversed_integer * 10 + integer % 10\n",
    "        integer = int(integer / 10)\n",
    "    return reversed_integer"
   ]
  },
  {
   "cell_type": "code",
   "execution_count": 17,
   "id": "f9f9edff",
   "metadata": {},
   "outputs": [
    {
     "data": {
      "text/plain": [
       "71306891"
      ]
     },
     "execution_count": 17,
     "metadata": {},
     "output_type": "execute_result"
    }
   ],
   "source": [
    "integer = 19860317\n",
    "reverse(integer, reversed_integer)"
   ]
  }
 ],
 "metadata": {
  "kernelspec": {
   "display_name": "Python 3 (ipykernel)",
   "language": "python",
   "name": "python3"
  },
  "language_info": {
   "codemirror_mode": {
    "name": "ipython",
    "version": 3
   },
   "file_extension": ".py",
   "mimetype": "text/x-python",
   "name": "python",
   "nbconvert_exporter": "python",
   "pygments_lexer": "ipython3",
   "version": "3.8.8"
  }
 },
 "nbformat": 4,
 "nbformat_minor": 5
}
