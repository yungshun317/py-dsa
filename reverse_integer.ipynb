{
 "cells": [
  {
   "cell_type": "markdown",
   "id": "ccd0efc5",
   "metadata": {},
   "source": [
    "# Integer Reversion\n",
    "\n",
    "Design an efficient algorithm to reverse a given integer."
   ]
  },
  {
   "cell_type": "code",
   "execution_count": 1,
   "id": "e64a27e5",
   "metadata": {},
   "outputs": [],
   "source": [
    "# [1] Iteration - modulo operator % - while\n",
    "def reverse_integer(n):    \n",
    "    \n",
    "    reversed_integer = 0\n",
    "    \n",
    "    while n > 0:\n",
    "        remainder = n % 10\n",
    "        reversed_integer = reversed_integer * 10 + remainder\n",
    "        n = n // 10\n",
    "    \n",
    "    return reversed_integer"
   ]
  },
  {
   "cell_type": "code",
   "execution_count": 2,
   "id": "a8838047",
   "metadata": {},
   "outputs": [
    {
     "data": {
      "text/plain": [
       "987654321"
      ]
     },
     "execution_count": 2,
     "metadata": {},
     "output_type": "execute_result"
    }
   ],
   "source": [
    "reverse_integer(1234567890)"
   ]
  },
  {
   "cell_type": "code",
   "execution_count": 3,
   "id": "b9881835",
   "metadata": {},
   "outputs": [],
   "source": [
    "# [2] Use the built-in `reverse` function - string to list - string concatenation - for\n",
    "def reverse_integer(n):\n",
    "    \n",
    "    reversed_list = ''\n",
    "    \n",
    "    list_n = [int(x) for x in str(n)]\n",
    "    list_n.reverse()\n",
    "    \n",
    "    for i in list_n:\n",
    "        reversed_list = reversed_list + str(i)\n",
    "            \n",
    "    return int(reversed_list)"
   ]
  },
  {
   "cell_type": "code",
   "execution_count": 4,
   "id": "209b90bd",
   "metadata": {},
   "outputs": [
    {
     "data": {
      "text/plain": [
       "987654321"
      ]
     },
     "execution_count": 4,
     "metadata": {},
     "output_type": "execute_result"
    }
   ],
   "source": [
    "reverse_integer(1234567890)"
   ]
  },
  {
   "cell_type": "code",
   "execution_count": 5,
   "id": "c6e6298a",
   "metadata": {},
   "outputs": [],
   "source": [
    "# [3] Iteration - string concatenation - for\n",
    "def reverse_integer(n):\n",
    "    \n",
    "    reversed_list = ''\n",
    "    \n",
    "    str_n = str(n)\n",
    "    \n",
    "    for i in range(len(str_n), 0, -1):\n",
    "        # if str_n[i - 1] == '0':\n",
    "        #     continue\n",
    "        reversed_list += str_n[i - 1]\n",
    "        \n",
    "    return int(reversed_list)"
   ]
  },
  {
   "cell_type": "code",
   "execution_count": 6,
   "id": "1a05071a",
   "metadata": {},
   "outputs": [
    {
     "data": {
      "text/plain": [
       "987654321"
      ]
     },
     "execution_count": 6,
     "metadata": {},
     "output_type": "execute_result"
    }
   ],
   "source": [
    "reverse_integer(1234567890)"
   ]
  },
  {
   "cell_type": "code",
   "execution_count": 7,
   "id": "4defc339",
   "metadata": {},
   "outputs": [],
   "source": [
    "# [4] Use the built-in `reversed` function - string concatenation - for\n",
    "def reverse_integer(n):\n",
    "    \n",
    "    reversed_list = ''\n",
    "    \n",
    "    str_n = str(n)\n",
    "    reversed_str_n = list(reversed(str(n)))\n",
    "        \n",
    "    for i in range(len(reversed_str_n)):\n",
    "        reversed_list += reversed_str_n[i]\n",
    "        \n",
    "    return int(reversed_list)"
   ]
  },
  {
   "cell_type": "code",
   "execution_count": 8,
   "id": "bc67f05e",
   "metadata": {},
   "outputs": [
    {
     "data": {
      "text/plain": [
       "987654321"
      ]
     },
     "execution_count": 8,
     "metadata": {},
     "output_type": "execute_result"
    }
   ],
   "source": [
    "reverse_integer(1234567890)"
   ]
  }
 ],
 "metadata": {
  "kernelspec": {
   "display_name": "Python 3 (ipykernel)",
   "language": "python",
   "name": "python3"
  },
  "language_info": {
   "codemirror_mode": {
    "name": "ipython",
    "version": 3
   },
   "file_extension": ".py",
   "mimetype": "text/x-python",
   "name": "python",
   "nbconvert_exporter": "python",
   "pygments_lexer": "ipython3",
   "version": "3.8.8"
  }
 },
 "nbformat": 4,
 "nbformat_minor": 5
}
