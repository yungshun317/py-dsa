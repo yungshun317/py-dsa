{
 "cells": [
  {
   "cell_type": "markdown",
   "id": "ccd0efc5",
   "metadata": {},
   "source": [
    "# Integer Reversion\n",
    "\n",
    "Design an efficient algorithm to reverse a given integer."
   ]
  },
  {
   "cell_type": "code",
   "execution_count": 18,
   "id": "e64a27e5",
   "metadata": {},
   "outputs": [],
   "source": [
    "# [1] Iteration - modulo operator % - while\n",
    "def reverse_integer(n):    \n",
    "    \n",
    "    reversed_integer = 0\n",
    "    \n",
    "    while n > 0:\n",
    "        remainder = n % 10\n",
    "        reversed_integer = reversed_integer * 10 + remainder\n",
    "        n = n // 10\n",
    "    \n",
    "    return reversed_integer"
   ]
  },
  {
   "cell_type": "code",
   "execution_count": 22,
   "id": "a8838047",
   "metadata": {},
   "outputs": [
    {
     "data": {
      "text/plain": [
       "987654321"
      ]
     },
     "execution_count": 22,
     "metadata": {},
     "output_type": "execute_result"
    }
   ],
   "source": [
    "reverse_integer(1234567890)"
   ]
  },
  {
   "cell_type": "code",
   "execution_count": 13,
   "id": "7e012b52",
   "metadata": {},
   "outputs": [],
   "source": [
    "# [2] Iteration - to string\n",
    "def reverse_integer(n):\n",
    "    \n",
    "    integer_list = [int(x) for x in str(n)]\n",
    "    revesed_integer_list = integer_list.reverse()\n",
    "    reversed_list = ''\n",
    "    \n",
    "    for i in integer_list:\n",
    "        reversed_list = reversed_list + str(i)\n",
    "        \n",
    "    reversed_integer = int(reversed_list)\n",
    "        \n",
    "    return reversed_integer"
   ]
  },
  {
   "cell_type": "code",
   "execution_count": 14,
   "id": "53f6650c",
   "metadata": {},
   "outputs": [
    {
     "data": {
      "text/plain": [
       "987654321"
      ]
     },
     "execution_count": 14,
     "metadata": {},
     "output_type": "execute_result"
    }
   ],
   "source": [
    "reverse_integer(1234567890)"
   ]
  },
  {
   "cell_type": "code",
   "execution_count": 51,
   "id": "ee4a4579",
   "metadata": {},
   "outputs": [],
   "source": [
    "# [3] Iteration - to string - for\n",
    "def reverse_integer(n):\n",
    "    \n",
    "    str_n = str(n)\n",
    "    reversed_integer = ''\n",
    "    \n",
    "    for i in range(len(str_n), 0, -1):\n",
    "        if str_n[i - 1] == '0':\n",
    "            continue\n",
    "        reversed_integer += str_n[i - 1]\n",
    "        \n",
    "    return reversed_integer"
   ]
  },
  {
   "cell_type": "code",
   "execution_count": 52,
   "id": "7a240625",
   "metadata": {},
   "outputs": [
    {
     "data": {
      "text/plain": [
       "'987654321'"
      ]
     },
     "execution_count": 52,
     "metadata": {},
     "output_type": "execute_result"
    }
   ],
   "source": [
    "reverse_integer(1234567890)"
   ]
  }
 ],
 "metadata": {
  "kernelspec": {
   "display_name": "Python 3 (ipykernel)",
   "language": "python",
   "name": "python3"
  },
  "language_info": {
   "codemirror_mode": {
    "name": "ipython",
    "version": 3
   },
   "file_extension": ".py",
   "mimetype": "text/x-python",
   "name": "python",
   "nbconvert_exporter": "python",
   "pygments_lexer": "ipython3",
   "version": "3.8.8"
  }
 },
 "nbformat": 4,
 "nbformat_minor": 5
}
