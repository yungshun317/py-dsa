{
 "cells": [
  {
   "cell_type": "markdown",
   "id": "7edf4c15",
   "metadata": {},
   "source": [
    "# Reverse An Array\n",
    "\n",
    "Given an $A$ array of integers - reverse this $A$ array in linear running time using constant memory."
   ]
  },
  {
   "cell_type": "code",
   "execution_count": 1,
   "id": "2f78bae0",
   "metadata": {},
   "outputs": [],
   "source": [
    "import random"
   ]
  },
  {
   "cell_type": "code",
   "execution_count": 2,
   "id": "6e301e9c",
   "metadata": {},
   "outputs": [
    {
     "name": "stdout",
     "output_type": "stream",
     "text": [
      "[2, 6, 0, 1, 8, 9, 4, 3, 7, 5]\n"
     ]
    }
   ],
   "source": [
    "nums = random.sample(range(0, 10), 10)\n",
    "print(nums)"
   ]
  },
  {
   "cell_type": "code",
   "execution_count": 3,
   "id": "571ba3a5",
   "metadata": {},
   "outputs": [],
   "source": [
    "# [1] Swap with two pointers - while\n",
    "def reverse(nums):\n",
    "\n",
    "    # Pointing to the first item\n",
    "    start_index = 0\n",
    "    # Index pointing to the last item\n",
    "    end_index = len(nums) - 1\n",
    "    \n",
    "    while start_index < end_index:\n",
    "        # Keep swapping the items\n",
    "        nums[start_index], nums[end_index] = nums[end_index], nums[start_index]\n",
    "        start_index = start_index + 1\n",
    "        end_index = end_index - 1"
   ]
  },
  {
   "cell_type": "code",
   "execution_count": 4,
   "id": "39833b87",
   "metadata": {},
   "outputs": [
    {
     "name": "stdout",
     "output_type": "stream",
     "text": [
      "[5, 7, 3, 4, 9, 8, 1, 0, 6, 2]\n"
     ]
    }
   ],
   "source": [
    "reverse(nums)\n",
    "print(nums)"
   ]
  },
  {
   "cell_type": "code",
   "execution_count": 5,
   "id": "c7b1faf5",
   "metadata": {},
   "outputs": [],
   "source": [
    "# [2] Swap with two pointers - for \n",
    "def reverse(nums):\n",
    "    \n",
    "    length = len(nums)\n",
    "    \n",
    "    # The `zip()` function returns a zip object, which is an iterator of tuples \n",
    "    # where the first item in each passed iterator is paired together, \n",
    "    # and then the second item in each passed iterator are paired together etc.\n",
    "    \n",
    "    # range(start, stop, step)\n",
    "    for start_index, end_index in zip(range(length // 2), range(length - 1, -1, -1)):\n",
    "        nums[start_index], nums[end_index] = nums[end_index], nums[start_index]"
   ]
  },
  {
   "cell_type": "code",
   "execution_count": 6,
   "id": "53af7b45",
   "metadata": {},
   "outputs": [
    {
     "name": "stdout",
     "output_type": "stream",
     "text": [
      "[2, 6, 0, 1, 8, 9, 4, 3, 7, 5]\n"
     ]
    }
   ],
   "source": [
    "reverse(nums)\n",
    "print(nums)"
   ]
  },
  {
   "cell_type": "code",
   "execution_count": 7,
   "id": "cdcdd132",
   "metadata": {},
   "outputs": [
    {
     "name": "stdout",
     "output_type": "stream",
     "text": [
      "[5, 7, 3, 4, 9, 8, 1, 0, 6, 2]\n"
     ]
    }
   ],
   "source": [
    "# [3] Use the built-in `reverse` functions\n",
    "nums.reverse()\n",
    "print(nums)"
   ]
  },
  {
   "cell_type": "code",
   "execution_count": 8,
   "id": "96e9e53a",
   "metadata": {},
   "outputs": [
    {
     "name": "stdout",
     "output_type": "stream",
     "text": [
      "[2, 6, 0, 1, 8, 9, 4, 3, 7, 5]\n"
     ]
    }
   ],
   "source": [
    "# [4] Use list slicing\n",
    "nums = nums[::-1]\n",
    "print(nums)"
   ]
  }
 ],
 "metadata": {
  "kernelspec": {
   "display_name": "Python 3 (ipykernel)",
   "language": "python",
   "name": "python3"
  },
  "language_info": {
   "codemirror_mode": {
    "name": "ipython",
    "version": 3
   },
   "file_extension": ".py",
   "mimetype": "text/x-python",
   "name": "python",
   "nbconvert_exporter": "python",
   "pygments_lexer": "ipython3",
   "version": "3.8.8"
  }
 },
 "nbformat": 4,
 "nbformat_minor": 5
}
