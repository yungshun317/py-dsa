{
 "cells": [
  {
   "cell_type": "markdown",
   "id": "9ebe41d6",
   "metadata": {},
   "source": [
    "Sort a `T[]` one-dimensional array of integers in $O(N)$ running time without any extra memory. The array can contain values: 0, 1, and 2."
   ]
  },
  {
   "cell_type": "code",
   "execution_count": 1,
   "id": "12a4a60a",
   "metadata": {},
   "outputs": [],
   "source": [
    "# [1] Three way partitioning\n",
    "def dutch_flag_problem(nums, pivot=1):\n",
    "    i = 0\n",
    "    j = 0\n",
    "    k = len(nums) - 1\n",
    "    \n",
    "    while j <= k:\n",
    "        # Current element is 0\n",
    "        if nums[j] < pivot:\n",
    "            swap(nums, i, j)\n",
    "            i = i + 1\n",
    "            j = j + 1\n",
    "        # Current element is 2\n",
    "        elif nums[j] > pivot:\n",
    "            swap(nums, j, k)\n",
    "            k = k - 1\n",
    "        # Current element is 1\n",
    "        else:\n",
    "            j = j + 1\n",
    "    \n",
    "    return nums\n",
    "\n",
    "def swap(nums, index1, index2):\n",
    "    nums[index1], nums[index2] = nums[index2], nums[index1]"
   ]
  },
  {
   "cell_type": "code",
   "execution_count": 2,
   "id": "0bff36ba",
   "metadata": {},
   "outputs": [
    {
     "data": {
      "text/plain": [
       "[0, 0, 0, 1, 1, 1, 2, 2, 2, 2]"
      ]
     },
     "execution_count": 2,
     "metadata": {},
     "output_type": "execute_result"
    }
   ],
   "source": [
    "dutch_flag_problem([0, 1, 2, 2, 1, 0, 0, 2, 2, 1])"
   ]
  }
 ],
 "metadata": {
  "kernelspec": {
   "display_name": "Python 3 (ipykernel)",
   "language": "python",
   "name": "python3"
  },
  "language_info": {
   "codemirror_mode": {
    "name": "ipython",
    "version": 3
   },
   "file_extension": ".py",
   "mimetype": "text/x-python",
   "name": "python",
   "nbconvert_exporter": "python",
   "pygments_lexer": "ipython3",
   "version": "3.8.8"
  }
 },
 "nbformat": 4,
 "nbformat_minor": 5
}
