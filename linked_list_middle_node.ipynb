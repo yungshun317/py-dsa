{
 "cells": [
  {
   "cell_type": "markdown",
   "id": "a660e5f7",
   "metadata": {},
   "source": [
    "# Middle Node in a Linked List\n",
    "\n",
    "The task is to find the middle node of a linked list without the need for extra memory (so we are after an in-place algorithm)."
   ]
  },
  {
   "cell_type": "code",
   "execution_count": null,
   "id": "3f5f4e6f",
   "metadata": {},
   "outputs": [],
   "source": [
    "# Node class\n",
    "class Node:\n",
    "    def __init__(self, data):\n",
    "        self.data = data\n",
    "        self.next = None\n",
    "        \n",
    "# Linked list class\n",
    "class LinkedList:\n",
    "    def __init__(self):\n",
    "        self.head = None\n",
    "    \n",
    "    # Add a node at the beginning\n",
    "    def insert_at_begin(self, data):\n",
    "        new_node = Node(data)\n",
    "        if self.head is None:\n",
    "            self.head = new_node\n",
    "            return\n",
    "        else:\n",
    "            new_node.next = self.head\n",
    "            self.head = new_node\n",
    "            \n",
    "    # Add a node at the end\n",
    "    def insert_at_end(self, data):\n",
    "        new_node = Node(data)\n",
    "        \n",
    "        if self.head is None:\n",
    "            self.head = new_node\n",
    "            return\n",
    "        \n",
    "        current_node = self.head\n",
    "        \n",
    "        while(current_node.next):\n",
    "            current_node = current_node.next\n",
    "            \n",
    "        current_node.next = new_node"
   ]
  },
  {
   "cell_type": "code",
   "execution_count": null,
   "id": "55200fe2",
   "metadata": {},
   "outputs": [],
   "source": [
    "# [1] "
   ]
  }
 ],
 "metadata": {
  "kernelspec": {
   "display_name": "Python 3 (ipykernel)",
   "language": "python",
   "name": "python3"
  },
  "language_info": {
   "codemirror_mode": {
    "name": "ipython",
    "version": 3
   },
   "file_extension": ".py",
   "mimetype": "text/x-python",
   "name": "python",
   "nbconvert_exporter": "python",
   "pygments_lexer": "ipython3",
   "version": "3.8.8"
  }
 },
 "nbformat": 4,
 "nbformat_minor": 5
}
