{
 "cells": [
  {
   "cell_type": "markdown",
   "id": "9d87ade2",
   "metadata": {},
   "source": [
    "# Palindrome Problem\n",
    "\n",
    "A **palindrome** is a string that reads the same forward and backward. \n",
    "\n",
    "Design an optimal algorithm for checking whether a given string is palindrome or not."
   ]
  },
  {
   "cell_type": "code",
   "execution_count": 1,
   "id": "5b8edd1c",
   "metadata": {},
   "outputs": [],
   "source": [
    "# [1] Check palindrome in loop - while\n",
    "def palindrome_check(string):\n",
    "    start_index = 0\n",
    "    end_index = len(string) - 1\n",
    "    \n",
    "    while start_index < end_index:\n",
    "        if (string[start_index] == string[end_index]):\n",
    "            start_index = start_index + 1\n",
    "            end_index = end_index - 1\n",
    "        else: \n",
    "            return False\n",
    "        \n",
    "    return True"
   ]
  },
  {
   "cell_type": "code",
   "execution_count": 2,
   "id": "36c73e37",
   "metadata": {},
   "outputs": [
    {
     "data": {
      "text/plain": [
       "True"
      ]
     },
     "execution_count": 2,
     "metadata": {},
     "output_type": "execute_result"
    }
   ],
   "source": [
    "string = 'radar'\n",
    "palindrome_check(string)"
   ]
  },
  {
   "cell_type": "code",
   "execution_count": 3,
   "id": "855aa782",
   "metadata": {},
   "outputs": [],
   "source": [
    "# [2] Check palindrome in loop - for\n",
    "def palindrome_check(string):\n",
    "    start_index = 0\n",
    "    end_index = len(string) - 1\n",
    "    length = len(string)\n",
    "    \n",
    "    for start_index, end_index in zip(range(length // 2), range(length - 1, -1, -1)):\n",
    "        if (string[start_index] != string[end_index]):\n",
    "            return False\n",
    "        \n",
    "    return True"
   ]
  },
  {
   "cell_type": "code",
   "execution_count": 4,
   "id": "20e7cf33",
   "metadata": {},
   "outputs": [
    {
     "data": {
      "text/plain": [
       "True"
      ]
     },
     "execution_count": 4,
     "metadata": {},
     "output_type": "execute_result"
    }
   ],
   "source": [
    "string = 'radar'\n",
    "palindrome_check(string)"
   ]
  },
  {
   "cell_type": "code",
   "execution_count": null,
   "id": "d5e90d1a",
   "metadata": {},
   "outputs": [],
   "source": []
  }
 ],
 "metadata": {
  "kernelspec": {
   "display_name": "Python 3 (ipykernel)",
   "language": "python",
   "name": "python3"
  },
  "language_info": {
   "codemirror_mode": {
    "name": "ipython",
    "version": 3
   },
   "file_extension": ".py",
   "mimetype": "text/x-python",
   "name": "python",
   "nbconvert_exporter": "python",
   "pygments_lexer": "ipython3",
   "version": "3.8.8"
  }
 },
 "nbformat": 4,
 "nbformat_minor": 5
}
