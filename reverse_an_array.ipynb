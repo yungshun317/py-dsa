{
 "cells": [
  {
   "cell_type": "markdown",
   "id": "7edf4c15",
   "metadata": {},
   "source": [
    "# Reverse An Array\n",
    "\n",
    "Given an $A$ array of integers - reverse this $A$ array in linear running time using constant memory."
   ]
  },
  {
   "cell_type": "code",
   "execution_count": null,
   "id": "571ba3a5",
   "metadata": {},
   "outputs": [],
   "source": [
    "def reverse(nums):\n",
    "\n",
    "    # Pointing to the first item\n",
    "    start_index = 0\n",
    "    # Index pointing to the last item\n",
    "    end_index = len(nums) - 1\n",
    "    \n",
    "    while start_index < end_index:\n",
    "        # Keep swapping the items\n",
    "        nums[start_index], nums[end_index] = nums[end_index], nums[start_index]\n",
    "        start_index = start_index + 1\n",
    "        end_index = end_index - 1"
   ]
  },
  {
   "cell_type": "code",
   "execution_count": null,
   "id": "cdcdd132",
   "metadata": {},
   "outputs": [],
   "source": [
    "n = [1, 2, 3]\n",
    "reverse(n)\n",
    "print(n)"
   ]
  }
 ],
 "metadata": {
  "kernelspec": {
   "display_name": "Python 3 (ipykernel)",
   "language": "python",
   "name": "python3"
  },
  "language_info": {
   "codemirror_mode": {
    "name": "ipython",
    "version": 3
   },
   "file_extension": ".py",
   "mimetype": "text/x-python",
   "name": "python",
   "nbconvert_exporter": "python",
   "pygments_lexer": "ipython3",
   "version": "3.8.8"
  }
 },
 "nbformat": 4,
 "nbformat_minor": 5
}
