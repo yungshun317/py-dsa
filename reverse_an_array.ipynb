{
 "cells": [
  {
   "cell_type": "markdown",
   "id": "7edf4c15",
   "metadata": {},
   "source": [
    "# Reverse An Array\n",
    "\n",
    "Given an $A$ array of integers - reverse this $A$ array in linear running time using constant memory."
   ]
  },
  {
   "cell_type": "code",
   "execution_count": 4,
   "id": "2ef7e231",
   "metadata": {},
   "outputs": [],
   "source": [
    "import random"
   ]
  },
  {
   "cell_type": "code",
   "execution_count": 5,
   "id": "38834c8d",
   "metadata": {},
   "outputs": [
    {
     "name": "stdout",
     "output_type": "stream",
     "text": [
      "[7, 2, 0, 9, 1, 5, 6, 3, 8, 4]\n"
     ]
    }
   ],
   "source": [
    "nums = random.sample(range(0, 10), 10)\n",
    "print(nums)"
   ]
  },
  {
   "cell_type": "code",
   "execution_count": 7,
   "id": "571ba3a5",
   "metadata": {},
   "outputs": [],
   "source": [
    "# [1] Swap with two pointers - while\n",
    "def reverse(nums):\n",
    "\n",
    "    # Pointing to the first item\n",
    "    start_index = 0\n",
    "    # Index pointing to the last item\n",
    "    end_index = len(nums) - 1\n",
    "    \n",
    "    while start_index < end_index:\n",
    "        # Keep swapping the items\n",
    "        nums[start_index], nums[end_index] = nums[end_index], nums[start_index]\n",
    "        start_index = start_index + 1\n",
    "        end_index = end_index - 1"
   ]
  },
  {
   "cell_type": "code",
   "execution_count": 8,
   "id": "9a4e40fb",
   "metadata": {},
   "outputs": [
    {
     "name": "stdout",
     "output_type": "stream",
     "text": [
      "[7, 2, 0, 9, 1, 5, 6, 3, 8, 4]\n"
     ]
    }
   ],
   "source": [
    "reverse(nums)\n",
    "print(nums)"
   ]
  },
  {
   "cell_type": "code",
   "execution_count": null,
   "id": "cf7386bc",
   "metadata": {},
   "outputs": [],
   "source": [
    "# [2] "
   ]
  },
  {
   "cell_type": "code",
   "execution_count": 6,
   "id": "cdcdd132",
   "metadata": {},
   "outputs": [
    {
     "name": "stdout",
     "output_type": "stream",
     "text": [
      "[4, 8, 3, 6, 5, 1, 9, 0, 2, 7]\n"
     ]
    }
   ],
   "source": [
    "# [3] Use the built-in `reverse` functions\n",
    "nums.reverse()\n",
    "print(nums)"
   ]
  },
  {
   "cell_type": "code",
   "execution_count": null,
   "id": "9bb63b73",
   "metadata": {},
   "outputs": [],
   "source": []
  }
 ],
 "metadata": {
  "kernelspec": {
   "display_name": "Python 3 (ipykernel)",
   "language": "python",
   "name": "python3"
  },
  "language_info": {
   "codemirror_mode": {
    "name": "ipython",
    "version": 3
   },
   "file_extension": ".py",
   "mimetype": "text/x-python",
   "name": "python",
   "nbconvert_exporter": "python",
   "pygments_lexer": "ipython3",
   "version": "3.8.8"
  }
 },
 "nbformat": 4,
 "nbformat_minor": 5
}
